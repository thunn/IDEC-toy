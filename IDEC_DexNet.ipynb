{
 "cells": [
  {
   "cell_type": "code",
   "execution_count": 1,
   "metadata": {},
   "outputs": [
    {
     "name": "stderr",
     "output_type": "stream",
     "text": [
      "Using TensorFlow backend.\n"
     ]
    }
   ],
   "source": [
    "from time import time\n",
    "import numpy as np\n",
    "from keras.models import Model\n",
    "from keras.optimizers import SGD\n",
    "\n",
    "from sklearn.cluster import KMeans\n",
    "from sklearn import metrics\n",
    "\n",
    "from DEC import cluster_acc, ClusteringLayer, autoencoder\n",
    "from IDEC import IDEC"
   ]
  },
  {
   "cell_type": "code",
   "execution_count": 2,
   "metadata": {},
   "outputs": [],
   "source": [
    "#Arguments\n",
    "dataset = 'mnist' #choices=['mnist', 'usps', 'reutersidf10k', 'pendigits']\n",
    "n_clusters = 10\n",
    "batch_size = 256\n",
    "maxiter = 2e4\n",
    "pretrain_epochs = 1 #200\n",
    "gamma = 0.1\n",
    "update_interval = 0\n",
    "tol = 0.001\n",
    "ae_weights = None#'./ae_weights'\n",
    "save_dir = 'results/idec'"
   ]
  },
  {
   "cell_type": "code",
   "execution_count": 6,
   "metadata": {},
   "outputs": [
    {
     "name": "stdout",
     "output_type": "stream",
     "text": [
      "('MNIST samples', (70000, 784))\n",
      "1.0\n"
     ]
    }
   ],
   "source": [
    "# load dataset\n",
    "\n",
    "def load_dexNet():\n",
    "    # the data, shuffled and split between train and test sets\n",
    "    from keras.datasets import mnist\n",
    "    (x_train, y_train), (x_test, y_test) = mnist.load_data()\n",
    "    x = np.concatenate((x_train, x_test))\n",
    "    y = np.concatenate((y_train, y_test))\n",
    "    x = x.reshape((x.shape[0], -1))\n",
    "    x = np.divide(x, 255.)  # normalize as it does in DEC paper\n",
    "    print('MNIST samples', x.shape)\n",
    "    return x, y\n",
    "\n",
    "\n",
    "\n",
    "optimizer = 'adam'  # SGD(lr=0.01, momentum=0.99)\n",
    "from datasets import load_mnist, load_reuters, load_usps, load_pendigits\n",
    "if dataset == 'mnist':  # recommends: n_clusters=10, update_interval=140\n",
    "    x, y = load_mnist()\n",
    "elif dataset == 'usps':  # recommends: n_clusters=10, update_interval=30\n",
    "    x, y = load_usps('data/usps')\n",
    "elif dataset == 'pendigits':\n",
    "    x, y = load_pendigits('data/pendigits')\n",
    "elif dataset == 'reutersidf10k':  # recommends: n_clusters=4, update_interval=20\n",
    "    x, y = load_reuters('data/reuters')\n",
    "\n",
    "if update_interval == 0:  # one epoch\n",
    "    update_interval = int(x.shape[0]/batch_size)"
   ]
  },
  {
   "cell_type": "code",
   "execution_count": null,
   "metadata": {},
   "outputs": [],
   "source": [
    "# Define IDEC model\n",
    "idec = IDEC(dims=[x.shape[-1], 500, 500, 2000, 10], n_clusters=n_clusters)\n",
    "idec.model.summary()"
   ]
  },
  {
   "cell_type": "code",
   "execution_count": null,
   "metadata": {},
   "outputs": [],
   "source": [
    "t0 = time()\n",
    "\n",
    "# Pretrain autoencoders before clustering\n",
    "if ae_weights is None:\n",
    "    idec.pretrain(x, batch_size=batch_size, epochs=pretrain_epochs, optimizer=optimizer)\n",
    "\n",
    "# begin clustering, time not include pretraining part.\n",
    "\n",
    "idec.compile(loss=['kld', 'mse'], loss_weights=[gamma, 1], optimizer=optimizer)\n",
    "idec.fit(x, y=y, batch_size=batch_size, tol=tol, maxiter=maxiter,\n",
    "         update_interval=update_interval, ae_weights=ae_weights, save_dir=save_dir)\n",
    "\n",
    "# Show the final results\n",
    "y_pred = idec.y_pred\n",
    "print('acc:', cluster_acc(y, y_pred))\n",
    "print('clustering time: %d seconds.' % int(time() - t0))"
   ]
  },
  {
   "cell_type": "code",
   "execution_count": null,
   "metadata": {},
   "outputs": [],
   "source": [
    "# Show Cluster and Encoding output\n",
    "    #Cluster\n",
    "q, _ = idec.model.predict(x, verbose=0)\n",
    "np.save('./clustering_layer.npy', q)\n",
    "    #Encoding \n",
    "e = idec.extract_feature(x)\n",
    "np.save('./encoding_layer.npy', e)"
   ]
  },
  {
   "cell_type": "code",
   "execution_count": null,
   "metadata": {},
   "outputs": [],
   "source": []
  }
 ],
 "metadata": {
  "kernelspec": {
   "display_name": "Python 2",
   "language": "python",
   "name": "python2"
  },
  "language_info": {
   "codemirror_mode": {
    "name": "ipython",
    "version": 2
   },
   "file_extension": ".py",
   "mimetype": "text/x-python",
   "name": "python",
   "nbconvert_exporter": "python",
   "pygments_lexer": "ipython2",
   "version": "2.7.14"
  }
 },
 "nbformat": 4,
 "nbformat_minor": 2
}
