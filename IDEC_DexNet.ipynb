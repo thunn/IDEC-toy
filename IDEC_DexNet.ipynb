{
 "cells": [
  {
   "cell_type": "code",
   "execution_count": 11,
   "metadata": {},
   "outputs": [],
   "source": [
    "from time import time\n",
    "import numpy as np\n",
    "from keras.models import Model\n",
    "from keras.optimizers import SGD\n",
    "\n",
    "from sklearn.cluster import KMeans\n",
    "from sklearn import metrics\n",
    "\n",
    "from DEC import cluster_acc, ClusteringLayer, autoencoder\n",
    "from IDEC import IDEC"
   ]
  },
  {
   "cell_type": "code",
   "execution_count": 12,
   "metadata": {},
   "outputs": [],
   "source": [
    "#Arguments\n",
    "dataset = 'mnist' #choices=['mnist', 'usps', 'reutersidf10k', 'pendigits']\n",
    "n_clusters = 10\n",
    "batch_size = 256\n",
    "maxiter = 2e4\n",
    "pretrain_epochs = 2 #200\n",
    "gamma = 0.1\n",
    "update_interval = 0\n",
    "tol = 0.001\n",
    "ae_weights = None#'./ae_weights'\n",
    "save_dir = 'results/idec'"
   ]
  },
  {
   "cell_type": "code",
   "execution_count": 13,
   "metadata": {},
   "outputs": [
    {
     "name": "stdout",
     "output_type": "stream",
     "text": [
      "('MNIST samples', (70000, 784))\n"
     ]
    }
   ],
   "source": [
    "# load dataset\n",
    "optimizer = 'adam'  # SGD(lr=0.01, momentum=0.99)\n",
    "from datasets import load_mnist, load_reuters, load_usps, load_pendigits\n",
    "if dataset == 'mnist':  # recommends: n_clusters=10, update_interval=140\n",
    "    x, y = load_mnist()\n",
    "elif dataset == 'usps':  # recommends: n_clusters=10, update_interval=30\n",
    "    x, y = load_usps('data/usps')\n",
    "elif dataset == 'pendigits':\n",
    "    x, y = load_pendigits('data/pendigits')\n",
    "elif dataset == 'reutersidf10k':  # recommends: n_clusters=4, update_interval=20\n",
    "    x, y = load_reuters('data/reuters')\n",
    "\n",
    "if update_interval == 0:  # one epoch\n",
    "    update_interval = int(x.shape[0]/batch_size)"
   ]
  },
  {
   "cell_type": "code",
   "execution_count": 14,
   "metadata": {},
   "outputs": [
    {
     "name": "stdout",
     "output_type": "stream",
     "text": [
      "__________________________________________________________________________________________________\n",
      "Layer (type)                    Output Shape         Param #     Connected to                     \n",
      "==================================================================================================\n",
      "input (InputLayer)              (None, 784)          0                                            \n",
      "__________________________________________________________________________________________________\n",
      "encoder_0 (Dense)               (None, 500)          392500      input[0][0]                      \n",
      "__________________________________________________________________________________________________\n",
      "encoder_1 (Dense)               (None, 500)          250500      encoder_0[0][0]                  \n",
      "__________________________________________________________________________________________________\n",
      "encoder_2 (Dense)               (None, 2000)         1002000     encoder_1[0][0]                  \n",
      "__________________________________________________________________________________________________\n",
      "encoder_3 (Dense)               (None, 10)           20010       encoder_2[0][0]                  \n",
      "__________________________________________________________________________________________________\n",
      "decoder_3 (Dense)               (None, 2000)         22000       encoder_3[0][0]                  \n",
      "__________________________________________________________________________________________________\n",
      "decoder_2 (Dense)               (None, 500)          1000500     decoder_3[0][0]                  \n",
      "__________________________________________________________________________________________________\n",
      "decoder_1 (Dense)               (None, 500)          250500      decoder_2[0][0]                  \n",
      "__________________________________________________________________________________________________\n",
      "clustering (ClusteringLayer)    (None, 10)           100         encoder_3[0][0]                  \n",
      "__________________________________________________________________________________________________\n",
      "decoder_0 (Dense)               (None, 784)          392784      decoder_1[0][0]                  \n",
      "==================================================================================================\n",
      "Total params: 3,330,894\n",
      "Trainable params: 3,330,894\n",
      "Non-trainable params: 0\n",
      "__________________________________________________________________________________________________\n"
     ]
    }
   ],
   "source": [
    "# Define IDEC model\n",
    "idec = IDEC(dims=[x.shape[-1], 500, 500, 2000, 10], n_clusters=n_clusters)\n",
    "idec.model.summary()"
   ]
  },
  {
   "cell_type": "code",
   "execution_count": null,
   "metadata": {},
   "outputs": [],
   "source": [
    "t0 = time()\n",
    "\n",
    "# Pretrain autoencoders before clustering\n",
    "if ae_weights is None:\n",
    "    idec.pretrain(x, batch_size=batch_size, epochs=pretrain_epochs, optimizer=optimizer)\n",
    "\n",
    "# begin clustering, time not include pretraining part.\n",
    "\n",
    "idec.compile(loss=['kld', 'mse'], loss_weights=[gamma, 1], optimizer=optimizer)\n",
    "idec.fit(x, y=y, batch_size=batch_size, tol=tol, maxiter=maxiter,\n",
    "         update_interval=update_interval, ae_weights=ae_weights, save_dir=save_dir)\n",
    "\n",
    "# Show the final results\n",
    "y_pred = idec.y_pred\n",
    "print('acc:', cluster_acc(y, y_pred))\n",
    "print('clustering time: %d seconds.' % int(time() - t0))"
   ]
  },
  {
   "cell_type": "code",
   "execution_count": null,
   "metadata": {},
   "outputs": [],
   "source": [
    "# Show Cluster and Encoding output\n",
    "    #Cluster\n",
    "q, _ = idec.model.predict(x, verbose=0)\n",
    "np.save('./clustering_layer.npy', q)\n",
    "    #Encoding \n",
    "e = idec.extract_feature(x)\n",
    "np.save('./encoding_layer.npy', e)"
   ]
  }
 ],
 "metadata": {
  "kernelspec": {
   "display_name": "Python 2",
   "language": "python",
   "name": "python2"
  },
  "language_info": {
   "codemirror_mode": {
    "name": "ipython",
    "version": 2
   },
   "file_extension": ".py",
   "mimetype": "text/x-python",
   "name": "python",
   "nbconvert_exporter": "python",
   "pygments_lexer": "ipython2",
   "version": "2.7.14"
  }
 },
 "nbformat": 4,
 "nbformat_minor": 2
}
